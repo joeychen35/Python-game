{
 "cells": [
  {
   "cell_type": "markdown",
   "metadata": {},
   "source": [
    "## Rock-paper-scissors-lizard-Spock "
   ]
  },
  {
   "cell_type": "markdown",
   "metadata": {},
   "source": [
    "Rock-paper-scissors-lizard-Spock is a game that was first introduce in the TV-series \"Big Bang Theory\" by Sheldon. This game is built upon the classic Rock-Paper-scissors as we all known. The rules of Rock-paper-scissors-lizard-Spock can be illustrate easily with picture below."
   ]
  },
  {
   "attachments": {},
   "cell_type": "markdown",
   "metadata": {},
   "source": [
    "![rock_spock.png](https://raw.githubusercontent.com/joeychen35/Python-game/master/rock_spock.png)"
   ]
  },
  {
   "cell_type": "markdown",
   "metadata": {},
   "source": [
    "To put this game into algorithm, we can start by equate the strings \"rock\", \"paper\", \"scissors\", \"lizard\", \"Spock\" to numbers as follows:\n",
    "\n",
    "0 - rock \n",
    "\n",
    "1 - Spock\n",
    "\n",
    "2 - paper\n",
    "\n",
    "3 - lizard\n",
    "\n",
    "4 - scissors\n",
    "\n"
   ]
  },
  {
   "cell_type": "markdown",
   "metadata": {},
   "source": [
    "Then we take the the difference between each other (first player - second player) by the mod of 5, when the results is 0, its a tie. When the results is either 1 or 2 the first player won and when the results is either 3 or 4 the second player won. \n",
    "\n",
    "Lets start putting this in code."
   ]
  },
  {
   "cell_type": "code",
   "execution_count": 98,
   "metadata": {},
   "outputs": [],
   "source": [
    "import random\n",
    "\n",
    "def name_to_number(name): # Converting type to number\n",
    "    if name == \"rock\":\n",
    "        return 0\n",
    "    elif name == \"spock\":\n",
    "        return 1\n",
    "    elif name == \"paper\":\n",
    "        return 2\n",
    "    elif name == \"lizard\":\n",
    "        return 3\n",
    "    elif name == \"scissors\":\n",
    "        return 4\n",
    "    else:\n",
    "        return \"Error- input invalid name.\"\n",
    "    \n",
    "\n",
    "\n",
    "def number_to_name(number): # Converting numnber back to type\n",
    "    if number == 0:\n",
    "        return \"rock\"\n",
    "    elif number == 1:\n",
    "        return \"spock\"\n",
    "    elif number == 2:\n",
    "        return \"paper\"\n",
    "    elif number == 3:\n",
    "        return \"lizard\"\n",
    "    elif number == 4:\n",
    "        return \"scissors\"\n",
    "    else:\n",
    "        return \"Error- input invalid number.\"\n",
    "\n",
    "def rpsls(player_choice): \n",
    "    global mod_dif\n",
    "    # print a blank line to separate consecutive games\n",
    "    print (\"                         \")\n",
    "    # print out the message for the player's choice\n",
    "    print (\"Player's choice\" + \" \" + player_choice)\n",
    "    # convert the player's choice to player_number using the function name_to_number()\n",
    "    player_number = name_to_number(player_choice)\n",
    "    # compute random guess for comp_number using random.randrange()\n",
    "    comp_number = random.randrange (0,5)\n",
    "    # convert comp_number to comp_choice using the function number_to_name()\n",
    "    comp_choice = number_to_name (comp_number)\n",
    "    # print out the message for computer's choice\n",
    "    print (\"Computer's choice\" + \" \" + comp_choice)\n",
    "\n",
    "    # compute difference of comp_number and player_number modulo five \n",
    "    mod_dif = (comp_number- player_number)%5 # In our case computer is the first player and player is the second player\n",
    "\n",
    "    if mod_dif == 0:\n",
    "        print (\"It's a tie!\")\n",
    "    elif mod_dif == 1 or mod_dif == 2:\n",
    "        print (\"Computer wins!\")\n",
    "    elif mod_dif == 3 or mod_dif == 4:\n",
    "        print (\"You wins!\")\n",
    "\n"
   ]
  },
  {
   "cell_type": "markdown",
   "metadata": {},
   "source": [
    "#### Testing the Game"
   ]
  },
  {
   "cell_type": "markdown",
   "metadata": {},
   "source": [
    "Now we have the functionality of the game. Lets test it out!"
   ]
  },
  {
   "cell_type": "code",
   "execution_count": 88,
   "metadata": {},
   "outputs": [
    {
     "name": "stdout",
     "output_type": "stream",
     "text": [
      "                         \n",
      "Player's choice rock\n",
      "Computer's choice scissors\n",
      "You wins!\n",
      "                         \n",
      "Player's choice spock\n",
      "Computer's choice spock\n",
      "It's a tie!\n",
      "                         \n",
      "Player's choice paper\n",
      "Computer's choice scissors\n",
      "Computer wins!\n",
      "                         \n",
      "Player's choice lizard\n",
      "Computer's choice scissors\n",
      "Computer wins!\n",
      "                         \n",
      "Player's choice scissors\n",
      "Computer's choice spock\n",
      "Computer wins!\n"
     ]
    }
   ],
   "source": [
    "# testing the Game\n",
    "rpsls(\"rock\")\n",
    "rpsls(\"spock\")\n",
    "rpsls(\"paper\")\n",
    "rpsls(\"lizard\")\n",
    "rpsls(\"scissors\")"
   ]
  },
  {
   "cell_type": "markdown",
   "metadata": {},
   "source": [
    "Now we have tested the game functionality. It's looking good. Lets implement this function to an actual game."
   ]
  },
  {
   "cell_type": "markdown",
   "metadata": {},
   "source": [
    "#### Implementing to a game"
   ]
  },
  {
   "cell_type": "code",
   "execution_count": 99,
   "metadata": {},
   "outputs": [],
   "source": [
    "all_choice = [\"rock\", \"paper\", \"scissors\", \"lizard\", \"spock\"]\n",
    "def start_game():\n",
    "    player_choice = input(\"Choose Your Type (rock, paper, scissors, lizard, spock):\").strip().lower()\n",
    "    if player_choice in all_choice:\n",
    "        rpsls(player_choice)\n",
    "        if mod_dif == 0:\n",
    "            restart_game()\n",
    "        else:\n",
    "            print(\"Game Ended, Thanks for playing.\")\n",
    "    else:\n",
    "        print(\"Error - input invalid type. Please try again.\")\n",
    "        start_game()\n",
    "\n",
    "        \n",
    "def restart_game():\n",
    "    print('Lets try again!')\n",
    "    start_game()"
   ]
  },
  {
   "cell_type": "markdown",
   "metadata": {},
   "source": [
    "#### Start the game "
   ]
  },
  {
   "cell_type": "code",
   "execution_count": 93,
   "metadata": {},
   "outputs": [
    {
     "name": "stdout",
     "output_type": "stream",
     "text": [
      "Choose Your Type (rock, paper, scissors, lizard, spock):spock\n",
      "                         \n",
      "Player's choice spock\n",
      "Computer's choice scissors\n",
      "You wins!\n",
      "Game Ended, Thanks for playing.\n"
     ]
    }
   ],
   "source": [
    "start_game()"
   ]
  },
  {
   "cell_type": "markdown",
   "metadata": {},
   "source": [
    "Trying the \"Tie\" resart functionality"
   ]
  },
  {
   "cell_type": "code",
   "execution_count": 95,
   "metadata": {},
   "outputs": [
    {
     "name": "stdout",
     "output_type": "stream",
     "text": [
      "Choose Your Type (rock, paper, scissors, lizard, spock):rock\n",
      "                         \n",
      "Player's choice rock\n",
      "Computer's choice rock\n",
      "It's a tie!\n",
      "Lets try again!\n",
      "Choose Your Type (rock, paper, scissors, lizard, Spock):lizard\n",
      "                         \n",
      "Player's choice lizard\n",
      "Computer's choice paper\n",
      "You wins!\n",
      "Game Ended, Thanks for playing.\n"
     ]
    }
   ],
   "source": [
    "start_game()"
   ]
  },
  {
   "cell_type": "markdown",
   "metadata": {},
   "source": [
    "Trying the error input functionality "
   ]
  },
  {
   "cell_type": "code",
   "execution_count": 100,
   "metadata": {},
   "outputs": [
    {
     "name": "stdout",
     "output_type": "stream",
     "text": [
      "Choose Your Type (rock, paper, scissors, lizard, spock):error\n",
      "Error - input invalid type. Please try again.\n",
      "Choose Your Type (rock, paper, scissors, lizard, spock):another error\n",
      "Error - input invalid type. Please try again.\n",
      "Choose Your Type (rock, paper, scissors, lizard, spock):scissors\n",
      "                         \n",
      "Player's choice scissors\n",
      "Computer's choice lizard\n",
      "You wins!\n",
      "Game Ended, Thanks for playing.\n"
     ]
    }
   ],
   "source": [
    "start_game()"
   ]
  }
 ],
 "metadata": {
  "kernelspec": {
   "display_name": "Python 3",
   "language": "python",
   "name": "python3"
  },
  "language_info": {
   "codemirror_mode": {
    "name": "ipython",
    "version": 3
   },
   "file_extension": ".py",
   "mimetype": "text/x-python",
   "name": "python",
   "nbconvert_exporter": "python",
   "pygments_lexer": "ipython3",
   "version": "3.8.3"
  }
 },
 "nbformat": 4,
 "nbformat_minor": 4
}
